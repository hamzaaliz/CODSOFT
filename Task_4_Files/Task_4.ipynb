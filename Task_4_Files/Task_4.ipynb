{
  "metadata": {
    "kernelspec": {
      "name": "python",
      "display_name": "Python (Pyodide)",
      "language": "python"
    },
    "language_info": {
      "codemirror_mode": {
        "name": "python",
        "version": 3
      },
      "file_extension": ".py",
      "mimetype": "text/x-python",
      "name": "python",
      "nbconvert_exporter": "python",
      "pygments_lexer": "ipython3",
      "version": "3.8"
    }
  },
  "nbformat_minor": 4,
  "nbformat": 4,
  "cells": [
    {
      "cell_type": "markdown",
      "source": "# CodSoft Internship Task: 4\n## Sales Prediction Using Python",
      "metadata": {}
    },
    {
      "cell_type": "markdown",
      "source": "### Importing Necessary Libraries",
      "metadata": {}
    },
    {
      "cell_type": "code",
      "source": "# Importing the necessary libraries.\nimport numpy as np\nimport pandas as pd\nfrom sklearn.preprocessing import StandardScaler, PolynomialFeatures\nfrom sklearn.model_selection import train_test_split, cross_val_score, KFold\nfrom sklearn.linear_model import LinearRegression\nfrom sklearn.metrics import mean_squared_error",
      "metadata": {
        "trusted": true
      },
      "outputs": [],
      "execution_count": 33
    },
    {
      "cell_type": "markdown",
      "source": "### Loading the Dataset",
      "metadata": {}
    },
    {
      "cell_type": "code",
      "source": "# Importing the dataset into a Pandas DataFrame.\ndataset = pd.read_csv('advertising.csv')",
      "metadata": {
        "trusted": true
      },
      "outputs": [],
      "execution_count": 34
    },
    {
      "cell_type": "markdown",
      "source": "### Cleaning and Preprocessing the Dataset",
      "metadata": {}
    },
    {
      "cell_type": "code",
      "source": "X = dataset.drop('Sales', axis=1)\ny = dataset['Sales']  \n\n# Performing feature scaling on the dataset.\nstandard_scaler = StandardScaler()\nX = standard_scaler.fit_transform(X)\n\n# Adding polynomial features to fit a more complex model.\npoly = PolynomialFeatures(degree=2)  \nX = poly.fit_transform(X)",
      "metadata": {
        "trusted": true
      },
      "outputs": [],
      "execution_count": 35
    },
    {
      "cell_type": "markdown",
      "source": "### Splitting the Datset into Training and Testing Sets",
      "metadata": {}
    },
    {
      "cell_type": "code",
      "source": "# Split the data into training and testing sets.\nX_train, X_test, y_train, y_test = train_test_split(X, y, test_size=0.25, random_state=42)",
      "metadata": {
        "trusted": true
      },
      "outputs": [],
      "execution_count": 36
    },
    {
      "cell_type": "markdown",
      "source": "### Making Predictions Using Linear Regression Model",
      "metadata": {}
    },
    {
      "cell_type": "code",
      "source": "# Instantiate the linear regression model.\nmodel = LinearRegression()\n\n# Using K-Fold cross-validation to evaluate the model.\nkf = KFold(n_splits=5, shuffle=True, random_state=42)\ncv_scores = cross_val_score(model, X_train, y_train, cv=kf, scoring='neg_mean_squared_error')\n\n# Print the cross-validation results.\nprint(\"CV Mean Squared Error:\", -np.mean(cv_scores))\n\n# Fit the model to the training set and evaluate the model on the test set.\nmodel.fit(X_train, y_train)\ny_pred = model.predict(X_test)\nmse = mean_squared_error(y_test, y_pred)\nprint(\"The Test Mean Squared Error is:\", mse)",
      "metadata": {
        "trusted": true
      },
      "outputs": [
        {
          "name": "stdout",
          "text": "CV Mean Squared Error: 2.3431009596600108\nThe Test Mean Squared Error is: 1.398319953746673\n",
          "output_type": "stream"
        }
      ],
      "execution_count": 37
    }
  ]
}